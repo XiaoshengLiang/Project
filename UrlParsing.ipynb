{
 "cells": [
  {
   "cell_type": "code",
   "execution_count": 15,
   "metadata": {
    "collapsed": false
   },
   "outputs": [
    {
     "name": "stdout",
     "output_type": "stream",
     "text": [
      "\n",
      "Title: \n",
      "\n",
      "Facebook's new feature to automatically update your status with ‘Awesome Mausam’ every time it rains at your location\n",
      "\n",
      "Article: \n",
      "\n",
      "On Thursday, Mark Zuckerberg, CEO Facebook, announced a new Facebook feature exclusively for Indians.\n",
      "Zuckerberg explaining the new feature to employees\n",
      "This feature will automatically update your status with ‘Awesome Mausam’ every time it rains at your location. Facebook has launched this feature after its Analytical Team observed a similar pattern of status updates during arrival of monsoon every year in India.\n",
      "\n",
      "One of the top officials of Facebook while addressing a press conference said, India has been one of the major sources of revenue for Facebook and we are committed to give best services to our friends in India. He further said Facebook post is not limited to ‘Awesome Mausam’, many more updates such as ‘It’s raining here in Mumbai’ and ‘Petrichor’.\n",
      "\n",
      "Meanwhile, BJP members are projecting it as PM Modi’s success. PM Narendra Modi met Mark Zuckerberg at Facebook Town hall last September. \n",
      "\n",
      "According to sources, Modi sought suggestions from Mark to make more Indians open their accounts. Mark mistook it for Facebook accounts instead of bank accounts and introduced a new feature.\n",
      "\n",
      "While common man is happy with the new feature, Aam Aadmi Party member Ashutosh isn’t satisfied and has asked Mark to add one more status in the list ” मस्त मौसम , आवारागर्दी के लिये आदर्श ।” Engineers have also demanded a status “I walk in the rain so that no one can see me cry”. \n",
      "\n",
      "The new feature will track the GPS location of the user and update the status accordingly. To improve the accuracy, Facebook has decided not to collaborate with India Meteorological Department. \n",
      "\n",
      "People are enjoying what Facebook is offering them, but it’s time they realize that they themselves are the product which Facebook is selling.\n",
      "\n",
      "Guest Patrakar\n",
      "\n",
      "\r\n",
      "\t\t  Get your articles published\r\n",
      "\t\t  without having to wait for a\r\n",
      "\t\t  slow editorial team of mainstream\r\n",
      "\t\t  Faking News to reply\r\n",
      "\t\t  and edit your submissions.\t\t\n",
      "\r\n",
      "\t\t  Get your articles published\t\t  without having to wait for a\t\t  slow editorial team of mainstream\t\t  Faking News to reply\t\t  and edit your submissions.\t\t\t\r\n",
      "\t\t\t\t\t\n",
      "\n",
      "Image: \n",
      "\n",
      "http://www.fakingnews.firstpost.com/fnimages/100x75/proportional/jpeg/uploads/2017/06/1459409122.jpeg?v=1\n"
     ]
    }
   ],
   "source": [
    "import requests\n",
    "from bs4 import BeautifulSoup\n",
    "from urllib.parse import urlparse\n",
    "\n",
    "\n",
    "def url_parsing(url):\n",
    "    hostname = urlparse(url).netloc\n",
    "#     print (hostname)\n",
    "    if hostname.startswith('www'):   # If the hostname start with \"www\", the page can be accessed.\n",
    "        xml_parsing(url)\n",
    "    else:\n",
    "        print (\"Ops, the page can not be accessed!\")\n",
    "\n",
    "def xml_parsing(url):\n",
    "    source_code = requests.get(url)  \n",
    "    soup = BeautifulSoup(source_code.content, \"lxml\")\n",
    "\n",
    "    print (\"\\nTitle: \\n\")\n",
    "    title = soup.find('h1')\n",
    "    print (title.text)\n",
    "        \n",
    "    print(\"\\nArticle: \\n\")\n",
    "    body = soup.body\n",
    "    for article in body.findAll('p'):\n",
    "        print (article.text)\n",
    "        \n",
    "    print (\"\\nImage: \\n\")\n",
    "    images = soup.findAll('img')\n",
    "    print (images[1]['src'])\n",
    "        \n",
    "        \n",
    "#     print (\"\\nPublished Time: \\n\")\n",
    "#     for time in soup.findAll('div'):\n",
    "#         print (time.text)\n",
    "        \n",
    "#     print (\"\\nAuthor: \\n\")\n",
    "#     for author in soup.findAll('a', {'class': 'author-article-link'}):\n",
    "#         print (author.text)\n",
    "    \n",
    "url = \"http://www.fakingnews.firstpost.com/technology/facebooks-new-feature-automatically-update-status-awesome-mausam-every-time-rains-location-21398\"\n",
    "# url = \"http://www.americannews.com/new-york-times-makes-ridiculous-claim-trump-sexually-harassing-james-comey/\"\n",
    "# url = \"http://usherald.com/cnn-forced-publish-retraction-proven-wrong-trump/\"\n",
    "# url = \"https://www.thebeaverton.com/2017/06/canada-immediately-engulfed-holy-fire-scrapping-blasphemy-law/\"\n",
    "# url = \"http://www.usapoliticstoday.com/denzel-obama-hollywood-deserves/\"\n",
    "# url = \"http://lasereye.cliniccompare.com/Revolutionary-Laser-Eye-Surgery?cid=56ea96cf1a0a8&utm_source=outbrain&utm_medium=USHerald+%28Liberty+Alliance%29&utm_content=%27Revolutionary%27%3A+New+Laser+Eye+Treatment+Storms+Ireland&utm_campaign=CC-Laser-Eye-IE-D-OB-MAY\"\n",
    "\n",
    "\n",
    "url_parsing (url)\n"
   ]
  },
  {
   "cell_type": "code",
   "execution_count": null,
   "metadata": {
    "collapsed": true
   },
   "outputs": [],
   "source": []
  },
  {
   "cell_type": "code",
   "execution_count": null,
   "metadata": {
    "collapsed": true
   },
   "outputs": [],
   "source": []
  }
 ],
 "metadata": {
  "kernelspec": {
   "display_name": "py3k",
   "language": "python",
   "name": "py3k"
  }
 },
 "nbformat": 4,
 "nbformat_minor": 2
}
