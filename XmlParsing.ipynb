{
 "cells": [
  {
   "cell_type": "code",
   "execution_count": 61,
   "metadata": {
    "collapsed": false
   },
   "outputs": [
    {
     "name": "stdout",
     "output_type": "stream",
     "text": [
      "\n",
      "Title: \n",
      "\n",
      "[]\n",
      "\n",
      "Article: \n",
      "\n",
      "\n",
      "WASHINGTON, D.C. (SatireWire.com) – Republicans picked up a major endorsement today as the world’s leading patient-based health related entity – Cancer – came out in favor of their proposed Obamacare replacement plan.\n",
      "“Speaking on behalf of the many, many millions of patients for whom I am responsible, the American Health Care Act is a vast improvement on Obamacare,” Cancer said in a written statement. “Several aspects of this legislation, such as eliminating the individual mandate, cutting Medicaid for the states, and increasing costs for the poor, sick and old, represent great strides forward on the road back to where things used to be before Obama got involved.”\n",
      "The statement conceded the bill is “by no means perfect,” but urged Republican hardliners to vote in favor.\n",
      "“To my friends in the Freedom Caucus – and my special friends the Koch brothers – I realize this legislation does not have everything we both want,” Cancer said. “To you, it still allows people to get government support for healthcare. To me, it still allows people to get healthcare. But I urge you to join me in supporting AHCA, as I believe this bill takes a giant and much-needed step in our direction by eventually sending many more people in my direction.”\n",
      "The surprise endorsement was announced Thursday, and without much fanfare, during a briefing by White House Press Secretary Sean Spicer:\n",
      "SPICER: Good morning. One update on the American Health Care Act. Support for this landmark legislation continues to grow. It now has the backing of House and Senate Republican leadership, the U.S. Chamber of Commerce, Health and Human Services, Cancer, Grover Nordquist, and medical device manufacturers. Questions?\n",
      "CNN: Sean, what’s the next… wait, did you just say the bill has the support of ‘Cancer?’\n",
      "SPICER: Yes. And the Chamber of Commerce and medical device manufacturers.\n",
      "AP: Right, but Cancer? You don’t mean the American Cancer Society?\n",
      "SPICER: Um… no. No, I believe they’re opposed. I can get back to you on that.\n",
      "AP: No, that’s all right. So… Cancer endorses this bill.\n",
      "SPICER: Yes. The President strongly believes that everyone should have a seat at the table and he has been negotiating with a very diverse group of interested parties, including Cancer, which said it particularly likes dropping the individual mandate.\n",
      "NYT: Because… fewer people will end up with health coverage?\n",
      "SPICER: I believe that was Cancer’s primary interest. When it saw that provision, it was very excited. Spontaneously self-replicated. Literally went from a stage 3 to a stage 4.\n",
      "WSJ: Sean, why would the White House want Cancer’s support when the bill is opposed by hospitals, doctors and patient groups like the AARP?\n",
      "SPICER: With all due respect to them, Cancer is by far the largest patient-oriented entity on the planet. Every single day it’s in direct contact with more people than either the AMA or AARP, and the President appreciates this wide base of support.\n",
      "FOX: But shouldn’t the President be against Cancer?\n",
      "SPICER: No. Cancer has said some very complimentary things about the President, so the President feels obliged to be complimentary in return. As he told me just last night, ‘Wouldn’t it be great if we could get along with Cancer?’\n",
      "FOX: But Cancer is a killer.\n",
      "SPICER: Hey, there are a lot of killers. You think our country is so innocent?\n",
      "Cancer could not be reached for comment as no one really wanted to try.\n",
      "© 2017 SatireWire.com\n",
      "Crazy Slots Casino\n",
      "\n",
      "Published Time: \n",
      "\n",
      "\n",
      "Author: \n",
      "\n",
      "\n",
      "Image: \n",
      "\n",
      "None\n"
     ]
    }
   ],
   "source": [
    "import requests\n",
    "from bs4 import BeautifulSoup\n",
    "\n",
    "# get all the links of months\n",
    "def trade_spider():\n",
    "#     url = \"http://www.fakingnews.firstpost.com/technology/facebooks-new-feature-automatically-update-status-awesome-mausam-every-time-rains-location-21398\"\n",
    "#     url = \"http://americannews.com/trump-takes-off-gloves-hes-going-comey-end/\"\n",
    "#     url = \"http://usherald.com/cnn-forced-publish-retraction-proven-wrong-trump/\"\n",
    "    url = \"http://www.satirewire.com/content1/?p=6475\"\n",
    "    source_code = requests.get(url)\n",
    "    soup = BeautifulSoup(source_code.content, \"lxml\")\n",
    "\n",
    "    print (\"\\nTitle: \\n\")\n",
    "    title = soup.findAll('h1')\n",
    "    print (title)\n",
    "        \n",
    "    print(\"\\nArticle: \\n\")\n",
    "    body = soup.body\n",
    "    for article in body.findAll('p'):\n",
    "        print (article.text)\n",
    "        \n",
    "    print (\"\\nImage: \\n\")\n",
    "    image = soup.findAll('img')\n",
    "    print (image[0])\n",
    "        \n",
    "    print (\"\\nPublished Time: \\n\")\n",
    "    for time in soup.findAll('div', {'class': 'article-details'}):\n",
    "        print (time.text)\n",
    "        \n",
    "    print (\"\\nAuthor: \\n\")\n",
    "    for author in soup.findAll('a', {'class': 'author-article-link'}):\n",
    "        print (author.text)\n",
    "    \n",
    "    \n",
    "trade_spider()\n"
   ]
  }
 ],
 "metadata": {
  "kernelspec": {
   "display_name": "py3k",
   "language": "python",
   "name": "py3k"
  },
  "language_info": {
   "codemirror_mode": {
    "name": "ipython",
    "version": 3
   },
   "file_extension": ".py",
   "mimetype": "text/x-python",
   "name": "python",
   "nbconvert_exporter": "python",
   "pygments_lexer": "ipython3",
   "version": "3.6.0"
  }
 },
 "nbformat": 4,
 "nbformat_minor": 2
}
